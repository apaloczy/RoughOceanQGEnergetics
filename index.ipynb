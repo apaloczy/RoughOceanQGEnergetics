{
 "cells": [
  {
   "cell_type": "markdown",
   "metadata": {},
   "source": [
    "# Supplementary materials for \"Instability of a surface jet over rough topography\"\n",
    "\n",
    "A. Palóczy* and J. H. LaCasce\n",
    "\n",
    "Department of Geosciences, University of Oslo | *<a.p.filho@geo.uio.no> |"
   ]
  },
  {
   "cell_type": "markdown",
   "metadata": {},
   "source": [
    "**Jupyter notebooks to reproduce manuscript figures**\n",
    "---"
   ]
  },
  {
   "cell_type": "markdown",
   "metadata": {},
   "source": [
    "* [Figure 1](https://nbviewer.jupyter.org/github/apaloczy/RoughOceanQGEnergetics/blob/main/plot_figs/fig01/fig01.ipynb)\n",
    "* [Figure 2](https://nbviewer.jupyter.org/github/apaloczy/RoughOceanQGEnergetics/blob/main/plot_figs/fig02/fig02.ipynb)\n",
    "* [Figure 3](https://nbviewer.jupyter.org/github/apaloczy/RoughOceanQGEnergetics/blob/main/plot_figs/fig03/fig03.ipynb)\n",
    "* [Figure 4](https://nbviewer.jupyter.org/github/apaloczy/RoughOceanQGEnergetics/blob/main/plot_figs/fig04/fig04.ipynb)\n",
    "* [Figure 5](https://nbviewer.jupyter.org/github/apaloczy/RoughOceanQGEnergetics/blob/main/plot_figs/fig05/fig05.ipynb)\n",
    "* [Figure 6](https://nbviewer.jupyter.org/github/apaloczy/RoughOceanQGEnergetics/blob/main/plot_figs/fig06/fig06.ipynb)\n",
    "* [Figure 7](https://nbviewer.jupyter.org/github/apaloczy/RoughOceanQGEnergetics/blob/main/plot_figs/fig07/fig07.ipynb)\n",
    "* [Figure 8](https://nbviewer.jupyter.org/github/apaloczy/RoughOceanQGEnergetics/blob/main/plot_figs/fig08/fig08.ipynb)\n",
    "* [Figure 9](https://nbviewer.jupyter.org/github/apaloczy/RoughOceanQGEnergetics/blob/main/plot_figs/fig09/fig09.ipynb)\n",
    "* [Figure 10](https://nbviewer.jupyter.org/github/apaloczy/RoughOceanQGEnergetics/blob/main/plot_figs/fig10/fig10.ipynb)"
   ]
  }
 ],
 "metadata": {
  "kernelspec": {
   "display_name": "Python 3 (ipykernel)",
   "language": "python",
   "name": "python3"
  },
  "language_info": {
   "codemirror_mode": {
    "name": "ipython",
    "version": 3
   },
   "file_extension": ".py",
   "mimetype": "text/x-python",
   "name": "python",
   "nbconvert_exporter": "python",
   "pygments_lexer": "ipython3",
   "version": "3.9.7"
  }
 },
 "nbformat": 4,
 "nbformat_minor": 4
}
