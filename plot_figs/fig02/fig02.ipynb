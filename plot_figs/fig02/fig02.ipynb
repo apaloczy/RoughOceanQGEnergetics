{
 "cells": [
  {
   "cell_type": "code",
   "execution_count": 1,
   "id": "8eb08e6e-1df4-4523-a123-d5ea560905ab",
   "metadata": {},
   "outputs": [],
   "source": [
    "# Description: Plot Figure 2 (Energy transfer terms as functions of mean jet lateral scale in flat-bottom experiments).\n",
    "# Author:      André Palóczy\n",
    "# E-mail:      paloczy@gmail.com\n",
    "# Date:        March/2022"
   ]
  },
  {
   "cell_type": "code",
   "execution_count": 2,
   "id": "07051f37-76f7-4d27-a0d2-6833b774892d",
   "metadata": {},
   "outputs": [],
   "source": [
    "import numpy as np\n",
    "import matplotlib.pyplot as plt\n",
    "from glob import glob\n",
    "\n",
    "def align_zeros(axes):\n",
    "    \"\"\"\n",
    "    Source: https://stackoverflow.com/a/68869054\n",
    "    \"\"\"\n",
    "    ylims_current = {}   #  Current ylims\n",
    "    ylims_mod     = {}   #  Modified ylims\n",
    "    deltas        = {}   #  ymax - ymin for ylims_current\n",
    "    ratios        = {}   #  ratio of the zero point within deltas\n",
    "\n",
    "    for ax in axes:\n",
    "        ylims_current[ax] = list(ax.get_ylim())\n",
    "                        # Need to convert a tuple to a list to manipulate elements.\n",
    "        deltas[ax]        = ylims_current[ax][1] - ylims_current[ax][0]\n",
    "        ratios[ax]        = -ylims_current[ax][0]/deltas[ax]\n",
    "\n",
    "    for ax in axes:      # Loop through all axes to ensure each ax fits in others.\n",
    "        ylims_mod[ax]     = [np.nan,np.nan]   # Construct a blank list\n",
    "        ylims_mod[ax][1]  = max(deltas[ax] * (1-np.array(list(ratios.values()))))\n",
    "                        # Choose the max value among (delta for ax)*(1-ratios),\n",
    "                        # and apply it to ymax for ax\n",
    "        ylims_mod[ax][0]  = min(-deltas[ax] * np.array(list(ratios.values())))\n",
    "                        # Do the same for ymin\n",
    "        ax.set_ylim(tuple(ylims_mod[ax]))"
   ]
  },
  {
   "cell_type": "code",
   "execution_count": 3,
   "id": "e5294d9d-ea98-4536-816a-2a9f2a6dcd57",
   "metadata": {},
   "outputs": [],
   "source": [
    "plt.close(\"all\")\n",
    "\n",
    "ht = 0\n",
    "N = 256\n",
    "kt = 10\n",
    "allF1s = np.array([25, 50, 75, 100, 125, 150, 175, 200, 225, 250, 275, 300, 325, 350, 375, 400])\n",
    "\n",
    "F1s, hts, mom1s, thicks = np.array([]), np.array([]), np.array([]), np.array([])\n",
    "momthickratios, sigmas, keratios = np.array([]), np.array([]), np.array([])"
   ]
  },
  {
   "cell_type": "code",
   "execution_count": 4,
   "id": "4d304fea-28ac-4a2d-9014-61a3df81fb12",
   "metadata": {},
   "outputs": [
    {
     "name": "stdout",
     "output_type": "stream",
     "text": [
      "25 0 0.6390930770315493 0.9285603253609551 3.95014703682958\n",
      "50 0 0.22498362577365935 1.0677794265513434 2.721284047085194\n",
      "75 0 0.03577445281412502 1.773647680742613 1.5195814800490877\n",
      "100 0 0.007791833917442423 2.117115088611314 1.4887353011916598\n",
      "125 0 -0.005033772659673891 2.3253222682928367 1.4713605145300697\n",
      "150 0 -0.03416058390906717 2.529896722123052 1.2943813922871645\n",
      "175 0 -0.05197693185998202 2.9429853173279845 1.1902364878482783\n",
      "200 0 -0.04925619239002475 3.263114114361855 1.1849235969947136\n",
      "225 0 -0.0461307364596638 3.493690127510508 1.1853846605511924\n",
      "250 0 -0.045983863158353774 3.657164513821286 1.1737685167616865\n",
      "275 0 -0.05059442954380883 3.847102697636899 1.1403568373295003\n",
      "300 0 -0.05337514733913401 4.110160329666009 1.1152237552677087\n",
      "325 0 -0.05201131051848262 4.37995666896844 1.1066479410642223\n",
      "350 0 -0.04929364527907259 4.616476827540879 1.1046823569264435\n",
      "375 0 -0.04686054675546836 4.8098695328074115 1.1034188623944015\n",
      "400 0 -0.045537923976669406 4.9713891368714656 1.0991963474302306\n"
     ]
    }
   ],
   "source": [
    "for F1 in allF1s:\n",
    "    fname = \"../../simulations/lin_N%d_ht%d_F1%d_%s%d.npz\"%(N, 0, F1, \"cosi\", kt)\n",
    "    d = np.load(fname)\n",
    "    mom1 = d[\"mom1\"]\n",
    "    thick = d[\"thick\"]\n",
    "    momthickratio = mom1/thick\n",
    "    sigma = d[\"sigma\"]\n",
    "    # keratio = d[\"ke1\"][-1]/d[\"ke2\"][-1]\n",
    "    keratio = d[\"keratio\"]\n",
    "    print(F1, ht, momthickratio, sigma, keratio)\n",
    "    mom1s = np.append(mom1s, mom1)\n",
    "    thicks = np.append(thicks, thick)\n",
    "    momthickratios = np.append(momthickratios, momthickratio)\n",
    "    sigmas = np.append(sigmas, sigma)\n",
    "    keratios = np.append(keratios, keratio)\n",
    "    F1s = np.append(F1s, F1)\n",
    "    hts = np.append(hts, ht)"
   ]
  },
  {
   "cell_type": "code",
   "execution_count": 5,
   "id": "a3df0d94-90f7-47f6-9135-60dbe211e49a",
   "metadata": {},
   "outputs": [],
   "source": [
    "LjonLd = np.sqrt(F1s/25)\n",
    "fac_mom1, fac_thick = 1e4, 1e3"
   ]
  },
  {
   "cell_type": "code",
   "execution_count": 6,
   "id": "adb89379-3290-4bf9-925b-5740f7693529",
   "metadata": {},
   "outputs": [
    {
     "data": {
      "image/png": "[encoded data removed]",
      "text/plain": [
       "<Figure size 432x288 with 2 Axes>"
      ]
     },
     "metadata": {
      "needs_background": "light"
     },
     "output_type": "display_data"
    }
   ],
   "source": [
    "fig, ax = plt.subplots()\n",
    "ax.plot(LjonLd, mom1s*fac_mom1, \"r\", marker=\"o\", label=r\"$C_{M_1} \\times 10^4$\")\n",
    "ax.plot(LjonLd, thicks*fac_thick, \"b\", marker=\"o\", label=r\"$C_T \\times 10^3$\")\n",
    "ax.set_xlabel(r\"$L_j/L_d$\", fontsize=12, fontweight=\"black\")\n",
    "ax.set_ylabel(r\"Energy conversion [unitless]\", fontsize=15, fontweight=\"black\")\n",
    "ax.grid()\n",
    "ax.set_xlim(LjonLd[0], LjonLd[-1])\n",
    "ax2y = ax.twinx()\n",
    "ax2y.plot(LjonLd, momthickratios, color=\"g\", linestyle=\"dashed\", marker=\"o\")\n",
    "ax2y.set_ylabel(r\"$R_{M_1T} = C_{M_1}/C_T$\", color=\"g\", fontsize=15, fontweight=\"black\")\n",
    "ax2y.spines[\"right\"].set_color(\"g\")\n",
    "ax2y.tick_params(axis=\"y\", colors=\"g\")\n",
    "ax.set_xlabel(r\"$L_j/L_{d1}$\", fontsize=20, fontweight=\"black\")\n",
    "ax.axhline(color=\"gray\", linestyle=\"solid\")\n",
    "ax.set_ylim(-6, 13)\n",
    "ax2y.set_ylim(-0.1, 1)\n",
    "align_zeros([ax, ax2y])\n",
    "ax.legend(fontsize=16, frameon=True, framealpha=1, loc=(0.15, 0.67))\n",
    "fig.savefig(\"fig02.png\", bbox_inches=\"tight\")\n",
    "\n",
    "plt.show()"
   ]
  }
 ],
 "metadata": {
  "kernelspec": {
   "display_name": "Python 3 (ipykernel)",
   "language": "python",
   "name": "python3"
  },
  "language_info": {
   "codemirror_mode": {
    "name": "ipython",
    "version": 3
   },
   "file_extension": ".py",
   "mimetype": "text/x-python",
   "name": "python",
   "nbconvert_exporter": "python",
   "pygments_lexer": "ipython3",
   "version": "3.9.7"
  }
 },
 "nbformat": 4,
 "nbformat_minor": 5
}
