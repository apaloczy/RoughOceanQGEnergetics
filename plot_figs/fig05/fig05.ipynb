{
 "cells": [
  {
   "cell_type": "code",
   "execution_count": 1,
   "id": "3908deb4-442b-4f34-a079-c7378ce3ba8a",
   "metadata": {},
   "outputs": [],
   "source": [
    "# Description: Plot Figure 5 (Parameter sweep [in Lj/Ld1-h0 space] for the monochromatic 2D topography experiments).\n",
    "# Author:      André Palóczy\n",
    "# E-mail:      paloczy@gmail.com\n",
    "# Date:        March/2022"
   ]
  },
  {
   "cell_type": "code",
   "execution_count": 2,
   "id": "a0d098c0-d56f-4192-8256-1649a0c0b9ec",
   "metadata": {},
   "outputs": [],
   "source": [
    "import numpy as np\n",
    "import matplotlib.pyplot as plt\n",
    "from scipy.interpolate import griddata\n",
    "from glob import glob\n",
    "from cmocean.cm import balance, amp"
   ]
  },
  {
   "cell_type": "code",
   "execution_count": 3,
   "id": "ccf2e899-a9d3-44f4-8fb1-237573057cf7",
   "metadata": {},
   "outputs": [],
   "source": [
    "plt.close(\"all\")\n",
    "\n",
    "head = \"../../simulations/\"\n",
    "facm1, fachf = 1e4, 1e3\n",
    "m1min, m1max, m1cmap = -8, 8, balance\n",
    "hfmin, hfmax, hfcmap = 0, 12, amp\n",
    "m1onhfmin, m1onhfmax, m1onhfcmap = 0, 1, amp\n",
    "sigmin, sigmax, sigcmap = 0.6, 2.3, amp\n",
    "kermin, kermax, kerscmap = 0, 5, amp\n",
    "\n",
    "method = \"linear\"\n",
    "GRID = True\n",
    "ttyp = \"cosi\"\n",
    "N = 256\n",
    "kt = 10\n",
    "allF1s = np.array([25, 50, 75, 100, 125, 150, 175, 200, 225, 250, 275, 300, 325, 350, 375, 400])\n",
    "allhts = np.array([0, 1, 2, 3, 4, 5, 6, 7, 8, 9])\n",
    "\n",
    "F1s, hts, mom1s, thicks, momthickratios, sigmas, keratios = np.array([]), np.array([]), np.array([]), np.array([]), np.array([]), np.array([]), np.array([])"
   ]
  },
  {
   "cell_type": "code",
   "execution_count": 4,
   "id": "e75ea333-695c-4da3-bbe8-df25a8ca2816",
   "metadata": {},
   "outputs": [],
   "source": [
    "for F1 in allF1s:\n",
    "    for ht in allhts:\n",
    "        fdir = head + \"lin_N%d_ht%d_F1%d_%s%d\"%(N, ht, F1, ttyp, kt)\n",
    "        fname = fdir + \".npz\"\n",
    "        d = np.load(fname)\n",
    "        mom1 = d[\"mom1\"]\n",
    "        thick = d[\"thick\"]\n",
    "        momthickratio = mom1/thick\n",
    "        sigma = d[\"sigma\"]\n",
    "        keratio = d[\"keratio\"]\n",
    "        #print(F1, ht, momthickratio, sigma, keratio)\n",
    "\n",
    "        mom1s = np.append(mom1s, mom1)\n",
    "        thicks = np.append(thicks, thick)\n",
    "        momthickratios = np.append(momthickratios, momthickratio)\n",
    "        sigmas = np.append(sigmas, sigma)\n",
    "        keratios = np.append(keratios, keratio)\n",
    "        F1s = np.append(F1s, F1)\n",
    "        hts = np.append(hts, ht)"
   ]
  },
  {
   "cell_type": "code",
   "execution_count": 5,
   "id": "ee92ee11-4b0d-496d-b380-b3675b9422eb",
   "metadata": {},
   "outputs": [],
   "source": [
    "sigmas = np.sqrt(sigmas) # KE-based growth rate translated to velocity magnitude.\n",
    "momthickratios = np.abs(momthickratios)"
   ]
  },
  {
   "cell_type": "code",
   "execution_count": 6,
   "id": "bf1b28c2-3421-4bca-bfd4-f189f24843f0",
   "metadata": {},
   "outputs": [],
   "source": [
    "if GRID:\n",
    "    dF1, dht = np.diff(allF1s)[0], np.diff(allhts)[0]\n",
    "    # dF1, dht = 0.1, 30\n",
    "    F1si = np.arange(F1s.min(), F1s.max()+dF1, dF1)\n",
    "    htsi = np.arange(hts.min(), hts.max()+dht, dht)\n",
    "    F1si, htsi = np.meshgrid(F1si, htsi)\n",
    "    x, y = F1s, hts\n",
    "    xi, yi = F1si, htsi\n",
    "    xy = (x, y)\n",
    "    xyi = (xi, yi)\n",
    "    momflx1s = griddata(xy, mom1s, xyi, method=method)\n",
    "    thickflxs = griddata(xy, thicks, xyi, method=method)\n",
    "    mtrs = griddata(xy, momthickratios, xyi, method=method)\n",
    "    sigs = griddata(xy, sigmas, xyi, method=method)\n",
    "    kers = griddata(xy, keratios, xyi, method=method)\n",
    "else:\n",
    "    xi, yi = np.meshgrid(F1s, hts)\n",
    "    momflx1s = mom1s\n",
    "    thickflxs = thicks\n",
    "    mtrs = momthickratios\n",
    "    sigs = sigmas\n",
    "    kers = keratios\n",
    "\n",
    "x = np.sqrt(x)/5\n",
    "xi = np.sqrt(xi)/5"
   ]
  },
  {
   "cell_type": "code",
   "execution_count": 7,
   "id": "e3790d1a-4528-431e-ad13-0a4b16c31fc2",
   "metadata": {},
   "outputs": [
    {
     "data": {
      "image/png": "[encoded data removed]",
      "text/plain": [
       "<Figure size 648x432 with 6 Axes>"
      ]
     },
     "metadata": {
      "needs_background": "light"
     },
     "output_type": "display_data"
    }
   ],
   "source": [
    "fig, ax = plt.subplots(nrows=2, ncols=3, figsize=(9, 6))\n",
    "ax1, ax2, ax3 = ax[0]\n",
    "ax4, ax5, ax6 = ax[1]\n",
    "ax6.set_visible(False)\n",
    "axsaux = (ax1, ax2, ax3, ax4, ax5)\n",
    "\n",
    "kwcsm1 = dict(vmin=m1min, vmax=m1max, cmap=m1cmap)\n",
    "kwcshf = dict(vmin=hfmin, vmax=hfmax, cmap=hfcmap)\n",
    "kwcsm1onhf = dict(vmin=m1onhfmin, vmax=m1onhfmax, cmap=m1onhfcmap)\n",
    "kwcssig = dict(vmin=sigmin, vmax=sigmax, cmap=sigcmap)\n",
    "kwcskers = dict(vmin=kermin, vmax=kermax, cmap=kerscmap)\n",
    "cs1 = ax1.pcolormesh(xi, yi, momflx1s*facm1, **kwcsm1)\n",
    "cs2 = ax2.pcolormesh(xi, yi, thickflxs*fachf, **kwcshf)\n",
    "cs3 = ax3.pcolormesh(xi, yi, mtrs, **kwcsm1onhf)\n",
    "cs4 = ax4.pcolormesh(xi, yi, sigs, **kwcssig)\n",
    "cs5 = ax5.pcolormesh(xi, yi, kers, **kwcskers)\n",
    "fm1 = kers<1\n",
    "ax5.scatter(xi[fm1], yi[fm1], s=2, c=\"gray\")\n",
    "\n",
    "allLjonLd1s = np.sqrt(allF1s)/5\n",
    "for axaux in axsaux:\n",
    "    axaux.tick_params(bottom=True, top=True, left=True, right=True, labelbottom=False, labeltop=False, labelleft=False, labelright=False)\n",
    "    axaux.set_xlim(allLjonLd1s[0], allLjonLd1s[-1])\n",
    "    axaux.set_ylim(allhts[0], allhts[-1])\n",
    "\n",
    "fig.subplots_adjust(wspace=0.05, hspace=0.05)\n",
    "ax2.xaxis.set_ticks_position(\"top\"); ax2.xaxis.set_label_position(\"top\")\n",
    "ax1.tick_params(labelleft=True)\n",
    "ax2.set_xlabel(r\"$L_j/L_{d1}$\", fontsize=18, fontweight=\"black\")\n",
    "ax1.set_ylabel(r\"$h_0$\", fontsize=18, fontweight=\"black\")\n",
    "\n",
    "facm1str, fachfstr = (\"%e\"%facm1)[-1], (\"%e\"%fachf)[-1]\n",
    "cbls = (r\"$10^{-%s}\\,C_{M_1}$\"%facm1str, r\"$10^{-%s}\\,C_T$\"%fachfstr, r\"$|C_{M_1}/C_T|$\", r\"$\\sigma$\", r\"$\\mathrm{KE}_1/\\mathrm{KE}_2$\")\n",
    "\n",
    "xt, yt = 0.02, 0.05\n",
    "kwtxt = dict(color=\"k\", fontsize=12, fontweight=\"normal\")\n",
    "ax1.text(xt, yt, r\"(a) %s\"%cbls[0], transform=ax1.transAxes, **kwtxt)\n",
    "ax2.text(xt, yt, r\"(b) %s\"%cbls[1], transform=ax2.transAxes, **kwtxt)\n",
    "ax3.text(xt, yt, r\"(c) %s\"%cbls[2], transform=ax3.transAxes, **kwtxt)\n",
    "ax4.text(xt, yt, r\"(d) %s\"%cbls[3], transform=ax4.transAxes, **kwtxt)\n",
    "ax5.text(xt, yt, r\"(e) %s\"%cbls[4], transform=ax5.transAxes, **kwtxt)\n",
    "\n",
    "cbw = 0.67\n",
    "kwcb = dict(fontsize=18, fontweight=\"normal\")\n",
    "caxx, caxy0 = 0.05, -0.2\n",
    "cblx, cbly = cbw+0.1, -0.2\n",
    "caxy1, caxy2, caxy3, caxy4, caxy5 = caxy0, caxy0*2, caxy0*3, caxy0*4, caxy0*5\n",
    "\n",
    "_ = [ax3.text(cblx, cbly*n, cbl, va=\"center\", transform=ax3.transAxes) for n, cbl in zip(range(1, 6), cbls)]\n",
    "\n",
    "cb = fig.colorbar(mappable=cs1, cax=ax3.inset_axes([caxx, caxy1, cbw, 0.05]), orientation=\"horizontal\")\n",
    "cb.ax.xaxis.set_ticks_position(\"bottom\"); cb.ax.xaxis.set_label_position(\"bottom\")\n",
    "cb.set_ticks([m1min, 0, m1max])\n",
    "\n",
    "cb = fig.colorbar(mappable=cs2, cax=ax3.inset_axes([caxx, caxy2, cbw, 0.05]), orientation=\"horizontal\")\n",
    "cb.ax.xaxis.set_ticks_position(\"bottom\"); cb.ax.xaxis.set_label_position(\"bottom\")\n",
    "cb.set_ticks([hfmin, (hfmax+hfmin)/2, hfmax])\n",
    "\n",
    "cb = fig.colorbar(mappable=cs3, cax=ax3.inset_axes([caxx, caxy3, cbw, 0.05]), orientation=\"horizontal\", extend=\"max\")\n",
    "cb.ax.xaxis.set_ticks_position(\"bottom\"); cb.ax.xaxis.set_label_position(\"bottom\")\n",
    "cb.set_ticks([m1onhfmin, (m1onhfmax+m1onhfmin)/2, m1onhfmax])\n",
    "\n",
    "cb = fig.colorbar(mappable=cs4, cax=ax3.inset_axes([caxx, caxy4, cbw, 0.05]), orientation=\"horizontal\")\n",
    "cb.ax.xaxis.set_ticks_position(\"bottom\"); cb.ax.xaxis.set_label_position(\"bottom\")\n",
    "cb.set_ticks([sigmin, (sigmax+sigmin)/2, sigmax])\n",
    "\n",
    "cb = fig.colorbar(mappable=cs5, cax=ax3.inset_axes([caxx, caxy5, cbw, 0.05]), orientation=\"horizontal\", extend=\"max\")\n",
    "cb.ax.xaxis.set_ticks_position(\"bottom\"); cb.ax.xaxis.set_label_position(\"bottom\")\n",
    "cb.set_ticks([kermin, 1, (kermax+kermin)/2, kermax])\n",
    "\n",
    "fig.savefig(\"fig05.png\", bbox_inches=\"tight\")\n",
    "\n",
    "plt.show()"
   ]
  }
 ],
 "metadata": {
  "kernelspec": {
   "display_name": "Python 3 (ipykernel)",
   "language": "python",
   "name": "python3"
  },
  "language_info": {
   "codemirror_mode": {
    "name": "ipython",
    "version": 3
   },
   "file_extension": ".py",
   "mimetype": "text/x-python",
   "name": "python",
   "nbconvert_exporter": "python",
   "pygments_lexer": "ipython3",
   "version": "3.9.7"
  }
 },
 "nbformat": 4,
 "nbformat_minor": 5
}
